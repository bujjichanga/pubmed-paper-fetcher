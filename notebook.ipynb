{
 "cells": [
  {
   "cell_type": "markdown",
   "id": "96734f08",
   "metadata": {},
   "source": [
    "\n",
    "# PubMed API Script\n",
    "\n",
    "This Jupyter notebook demonstrates how to use the PubMed API to fetch and process academic papers. \n",
    "The script includes functions for querying PubMed, fetching metadata, and identifying authors based on affiliations.\n",
    "\n",
    "### Importing Required Libraries\n"
   ]
  },
  {
   "cell_type": "code",
   "execution_count": 9,
   "id": "72f45f3a",
   "metadata": {},
   "outputs": [],
   "source": [
    "import requests\n",
    "import xml.etree.ElementTree as ET\n",
    "import pandas as pd\n",
    "from typing import List, Dict, Tuple\n",
    "import string"
   ]
  },
  {
   "cell_type": "markdown",
   "id": "55bd2bee",
   "metadata": {},
   "source": [
    "\n",
    "## Function Definitions\n",
    "\n",
    "The following section contains functions for:\n",
    "- Querying the PubMed API\n",
    "- Parsing XML responses\n",
    "- Processing and categorizing papers\n"
   ]
  },
  {
   "cell_type": "markdown",
   "id": "2f9124e5",
   "metadata": {},
   "source": [
    "### Construct Query URLs\n",
    "The `mkquery` function helps in constructing a URL with query parameters for API requests."
   ]
  },
  {
   "cell_type": "code",
   "execution_count": 10,
   "id": "6b3c0fc0",
   "metadata": {},
   "outputs": [],
   "source": [
    "def mkquery(base_url: str, params: Dict[str, str]) -> str:\n",
    "    query = \"&\".join(f\"{key}={value}\" for key, value in params.items())\n",
    "    return f\"{base_url}?{query}\"\n"
   ]
  },
  {
   "cell_type": "markdown",
   "id": "c5470711",
   "metadata": {},
   "source": [
    "### Fetch XML Data\n",
    "The `getXmlFromURL` function sends a request to the PubMed API and parses the XML response."
   ]
  },
  {
   "cell_type": "code",
   "execution_count": 11,
   "id": "5c055fd3",
   "metadata": {},
   "outputs": [],
   "source": [
    "def getXmlFromURL(base_url: str, params: Dict[str, str]) -> ET.Element:\n",
    "    response = requests.get(mkquery(base_url, params))\n",
    "    response.raise_for_status()\n",
    "    return ET.fromstring(response.text)\n"
   ]
  },
  {
   "cell_type": "markdown",
   "id": "0efcd799",
   "metadata": {},
   "source": [
    "### Fetch Paper IDs\n",
    "The `fetch_paper_ids` function retrieves PubMed IDs for papers matching a given query."
   ]
  },
  {
   "cell_type": "code",
   "execution_count": 12,
   "id": "a4e75da7",
   "metadata": {},
   "outputs": [],
   "source": [
    "def fetch_paper_ids(query: str, max_results: int = 100) -> Tuple[List[str], str, str]:\n",
    "    params = {\n",
    "        'db': 'pubmed',\n",
    "        'term': query,\n",
    "        'retmax': str(max_results),\n",
    "        'usehistory': 'y'\n",
    "    }\n",
    "    root = getXmlFromURL(BASEURL_SRCH, params)\n",
    "    ids = [id_node.text for id_node in root.findall('.//Id')]\n",
    "    query_key = root.findtext('.//QueryKey')\n",
    "    web_env = root.findtext('.//WebEnv')\n",
    "    return ids, query_key, web_env\n"
   ]
  },
  {
   "cell_type": "markdown",
   "id": "1f448f0e",
   "metadata": {},
   "source": [
    "### Fetch Paper Details\n",
    "The `fetch_paper_details` function retrieves detailed information about the papers using PubMed IDs."
   ]
  },
  {
   "cell_type": "code",
   "execution_count": 13,
   "id": "9416fc28",
   "metadata": {},
   "outputs": [],
   "source": [
    "def fetch_paper_details(query_key: str, web_env: str, batch_size: int = 10) -> List[Dict]:\n",
    "    params = {\n",
    "        'db': 'pubmed',\n",
    "        'query_key': query_key,\n",
    "        'WebEnv': web_env,\n",
    "        'retmax': str(batch_size),\n",
    "        'retmode': 'xml'\n",
    "    }\n",
    "    root = getXmlFromURL(BASEURL_FTCH, params)\n",
    "    papers = []\n",
    "\n",
    "    for article in root.iter('PubmedArticle'):\n",
    "        paper = {\n",
    "            'PubmedID': article.findtext('.//PMID'),\n",
    "            'Title': article.findtext('.//ArticleTitle'),\n",
    "            'PublicationDate': article.findtext('.//PubDate/Year'),\n",
    "            'Authors': [],\n",
    "            'Affiliations': []\n",
    "        }\n",
    "        for author in article.findall('.//Author'):\n",
    "            name = f\"{author.findtext('ForeName', '')} {author.findtext('LastName', '')}\".strip()\n",
    "            affiliation = author.findtext('.//Affiliation')\n",
    "            if name and affiliation:\n",
    "                paper['Authors'].append(name)\n",
    "                paper['Affiliations'].append(affiliation)\n",
    "        papers.append(paper)\n",
    "    return papers\n"
   ]
  },
  {
   "cell_type": "markdown",
   "id": "e4c4b3d7",
   "metadata": {},
   "source": [
    "### Check Academic Affiliation\n",
    "The `check_academic` function determines if an affiliation is academic by matching keywords."
   ]
  },
  {
   "cell_type": "code",
   "execution_count": 14,
   "id": "650dd34b",
   "metadata": {},
   "outputs": [],
   "source": [
    "def check_academic(affiliation: str) -> bool:\n",
    "    academic_keywords = [\"school\", \"university\", \"college\", \"institute\", \"research\", \"lab\"]\n",
    "    affiliation = affiliation.translate(str.maketrans('', '', string.punctuation))\n",
    "    affiliation = affiliation.lower().split()\n",
    "    academic_keywords = set(academic_keywords)\n",
    "    affiliation = set(affiliation)\n",
    "    return len(academic_keywords.intersection(affiliation)) > 0\n"
   ]
  },
  {
   "cell_type": "markdown",
   "id": "4f455c53",
   "metadata": {},
   "source": [
    "### Process Papers\n",
    "The `process_papers` function processes metadata and categorizes authors as academic or non-academic."
   ]
  },
  {
   "cell_type": "code",
   "execution_count": 15,
   "id": "b333b0bc",
   "metadata": {},
   "outputs": [],
   "source": [
    "def process_papers(papers: List[Dict]) -> pd.DataFrame:\n",
    "    rows = []\n",
    "    for paper in papers:\n",
    "        non_academic_authors = []\n",
    "        affiliations = []\n",
    "        for author, affiliation in zip(paper['Authors'], paper['Affiliations']):\n",
    "            is_academic = check_academic(affiliation)\n",
    "            if not is_academic:\n",
    "                non_academic_authors.append(author)\n",
    "                affiliations.append(affiliation)\n",
    "        rows.append({\n",
    "            'PubmedID': paper['PubmedID'],\n",
    "            'Title': paper['Title'],\n",
    "            'Publication Date': paper['PublicationDate'],\n",
    "            'Non-academic Author(s)': \"; \".join(non_academic_authors),\n",
    "            'Company Affiliation(s)': \"; \".join(affiliations),\n",
    "        })\n",
    "    return pd.DataFrame(rows)\n"
   ]
  },
  {
   "cell_type": "markdown",
   "id": "9e8dc698",
   "metadata": {},
   "source": [
    "\n",
    "## Example Usage\n",
    "\n",
    "The example demonstrates querying PubMed for papers and processing results.\n"
   ]
  },
  {
   "cell_type": "code",
   "execution_count": 18,
   "id": "1f97d8d2",
   "metadata": {},
   "outputs": [
    {
     "name": "stdout",
     "output_type": "stream",
     "text": [
      "Fetched 100 IDs\n",
      "Fetched details for 10 papers\n"
     ]
    },
    {
     "data": {
      "text/html": [
       "<div>\n",
       "<style scoped>\n",
       "    .dataframe tbody tr th:only-of-type {\n",
       "        vertical-align: middle;\n",
       "    }\n",
       "\n",
       "    .dataframe tbody tr th {\n",
       "        vertical-align: top;\n",
       "    }\n",
       "\n",
       "    .dataframe thead th {\n",
       "        text-align: right;\n",
       "    }\n",
       "</style>\n",
       "<table border=\"1\" class=\"dataframe\">\n",
       "  <thead>\n",
       "    <tr style=\"text-align: right;\">\n",
       "      <th></th>\n",
       "      <th>PubmedID</th>\n",
       "      <th>Title</th>\n",
       "      <th>Publication Date</th>\n",
       "      <th>Non-academic Author(s)</th>\n",
       "      <th>Company Affiliation(s)</th>\n",
       "    </tr>\n",
       "  </thead>\n",
       "  <tbody>\n",
       "    <tr>\n",
       "      <th>0</th>\n",
       "      <td>39791229</td>\n",
       "      <td>Role of data-driven regional growth model in s...</td>\n",
       "      <td>2025</td>\n",
       "      <td></td>\n",
       "      <td></td>\n",
       "    </tr>\n",
       "    <tr>\n",
       "      <th>1</th>\n",
       "      <td>39791216</td>\n",
       "      <td>Predicting cognitive decline from neuropsychia...</td>\n",
       "      <td>2025</td>\n",
       "      <td>Janina Krell-Roesch; David S Knopman; Cliff R ...</td>\n",
       "      <td>Department of Quantitative Health Sciences, Ma...</td>\n",
       "    </tr>\n",
       "    <tr>\n",
       "      <th>2</th>\n",
       "      <td>39791175</td>\n",
       "      <td>Identification of Programmed Cell Death-relate...</td>\n",
       "      <td>2025</td>\n",
       "      <td></td>\n",
       "      <td></td>\n",
       "    </tr>\n",
       "    <tr>\n",
       "      <th>3</th>\n",
       "      <td>39791105</td>\n",
       "      <td>The impact of war on people with type 2 diabet...</td>\n",
       "      <td>2025</td>\n",
       "      <td>Oksana Sulaieva; Volodymyr Pankiv; Oleksandr T...</td>\n",
       "      <td>Medical Laboratory CSD, Kyiv 02000, Ukraine.; ...</td>\n",
       "    </tr>\n",
       "    <tr>\n",
       "      <th>4</th>\n",
       "      <td>39791061</td>\n",
       "      <td>Differentiating Cystic Lesions in the Sellar R...</td>\n",
       "      <td>2024</td>\n",
       "      <td>Kaivan Patel</td>\n",
       "      <td>Department of Internal Medicine, Broward Healt...</td>\n",
       "    </tr>\n",
       "    <tr>\n",
       "      <th>5</th>\n",
       "      <td>39791019</td>\n",
       "      <td>Retraction: Application of Metabolomics and Ma...</td>\n",
       "      <td>2025</td>\n",
       "      <td></td>\n",
       "      <td></td>\n",
       "    </tr>\n",
       "    <tr>\n",
       "      <th>6</th>\n",
       "      <td>39790908</td>\n",
       "      <td>Perceptions of Machine Learning among Therapis...</td>\n",
       "      <td>2024</td>\n",
       "      <td></td>\n",
       "      <td></td>\n",
       "    </tr>\n",
       "    <tr>\n",
       "      <th>7</th>\n",
       "      <td>39790862</td>\n",
       "      <td>Diagnostic performance of generative pretraine...</td>\n",
       "      <td>2025</td>\n",
       "      <td></td>\n",
       "      <td></td>\n",
       "    </tr>\n",
       "    <tr>\n",
       "      <th>8</th>\n",
       "      <td>39790563</td>\n",
       "      <td>Identification of fibrosis-related genes and b...</td>\n",
       "      <td>2024</td>\n",
       "      <td></td>\n",
       "      <td></td>\n",
       "    </tr>\n",
       "    <tr>\n",
       "      <th>9</th>\n",
       "      <td>39790466</td>\n",
       "      <td>Expanding the recognition of monosaccharides a...</td>\n",
       "      <td>2025</td>\n",
       "      <td></td>\n",
       "      <td></td>\n",
       "    </tr>\n",
       "  </tbody>\n",
       "</table>\n",
       "</div>"
      ],
      "text/plain": [
       "   PubmedID                                              Title  \\\n",
       "0  39791229  Role of data-driven regional growth model in s...   \n",
       "1  39791216  Predicting cognitive decline from neuropsychia...   \n",
       "2  39791175  Identification of Programmed Cell Death-relate...   \n",
       "3  39791105  The impact of war on people with type 2 diabet...   \n",
       "4  39791061  Differentiating Cystic Lesions in the Sellar R...   \n",
       "5  39791019  Retraction: Application of Metabolomics and Ma...   \n",
       "6  39790908  Perceptions of Machine Learning among Therapis...   \n",
       "7  39790862  Diagnostic performance of generative pretraine...   \n",
       "8  39790563  Identification of fibrosis-related genes and b...   \n",
       "9  39790466  Expanding the recognition of monosaccharides a...   \n",
       "\n",
       "  Publication Date                             Non-academic Author(s)  \\\n",
       "0             2025                                                      \n",
       "1             2025  Janina Krell-Roesch; David S Knopman; Cliff R ...   \n",
       "2             2025                                                      \n",
       "3             2025  Oksana Sulaieva; Volodymyr Pankiv; Oleksandr T...   \n",
       "4             2024                                       Kaivan Patel   \n",
       "5             2025                                                      \n",
       "6             2024                                                      \n",
       "7             2025                                                      \n",
       "8             2024                                                      \n",
       "9             2025                                                      \n",
       "\n",
       "                              Company Affiliation(s)  \n",
       "0                                                     \n",
       "1  Department of Quantitative Health Sciences, Ma...  \n",
       "2                                                     \n",
       "3  Medical Laboratory CSD, Kyiv 02000, Ukraine.; ...  \n",
       "4  Department of Internal Medicine, Broward Healt...  \n",
       "5                                                     \n",
       "6                                                     \n",
       "7                                                     \n",
       "8                                                     \n",
       "9                                                     "
      ]
     },
     "execution_count": 18,
     "metadata": {},
     "output_type": "execute_result"
    }
   ],
   "source": [
    "\n",
    "# Constants for PubMed API\n",
    "BASEURL_SRCH = 'https://eutils.ncbi.nlm.nih.gov/entrez/eutils/esearch.fcgi'\n",
    "BASEURL_FTCH = 'https://eutils.ncbi.nlm.nih.gov/entrez/eutils/efetch.fcgi'\n",
    "\n",
    "# Example query\n",
    "query = \"machine learning\"\n",
    "\n",
    "# Fetch PubMed IDs\n",
    "ids, query_key, web_env = fetch_paper_ids(query)\n",
    "print(f\"Fetched {len(ids)} IDs\")\n",
    "\n",
    "# Fetch details\n",
    "papers = fetch_paper_details(query_key, web_env)\n",
    "print(f\"Fetched details for {len(papers)} papers\")\n",
    "\n",
    "# Process papers\n",
    "df = process_papers(papers)\n",
    "\n",
    "df\n"
   ]
  },
  {
   "cell_type": "code",
   "execution_count": null,
   "id": "e78fe30f",
   "metadata": {},
   "outputs": [],
   "source": []
  }
 ],
 "metadata": {
  "kernelspec": {
   "display_name": "Python 3",
   "language": "python",
   "name": "python3"
  },
  "language_info": {
   "codemirror_mode": {
    "name": "ipython",
    "version": 3
   },
   "file_extension": ".py",
   "mimetype": "text/x-python",
   "name": "python",
   "nbconvert_exporter": "python",
   "pygments_lexer": "ipython3",
   "version": "3.12.6"
  }
 },
 "nbformat": 4,
 "nbformat_minor": 5
}
